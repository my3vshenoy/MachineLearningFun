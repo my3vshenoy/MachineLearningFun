{
 "cells": [
  {
   "cell_type": "code",
   "execution_count": 1,
   "metadata": {},
   "outputs": [],
   "source": [
    "# Gradient Descent with multiple inputs\n",
    "# Step 1: Empty Network with multtiple inputs\n",
    "def weighted_sum(inputArray, weightsArray):\n",
    "    assert(len(inputArray) == len(weightsArray))\n",
    "    output = 0\n",
    "    for index in range(len(inputArray)): \n",
    "        output += inputArray[index] * weightsArray[index]\n",
    "    return output # Prediction\n",
    "\n",
    "def neural_network(input, weights):\n",
    "    prediction = weighted_sum(input, weights)\n",
    "    return prediction\n",
    "\n",
    "weights = [.1, .2, -.1]"
   ]
  },
  {
   "cell_type": "code",
   "execution_count": 2,
   "metadata": {},
   "outputs": [
    {
     "name": "stdout",
     "output_type": "stream",
     "text": [
      "Prediction: 0.8600000000000001\n",
      "Error: 0.01959999999999997\n",
      "Delta: -0.1399999999999999\n"
     ]
    }
   ],
   "source": [
    "# Gradient Descent with multiple inputs\n",
    "# Step 2: PREDICT + COMPARE: Make a prediction and calculate error + Delta (Pure error)\n",
    "# Multiple inputs\n",
    "toes = [8.5, 9.5, 9.9, 9.0]\n",
    "win_loss_rec = [0.65, 0.8, 0.8, 0.9]\n",
    "num_of_fans = [1.2, 1.3, .5, 1.0]\n",
    "\n",
    "win_or_lose_binary = [1, 1, 0, 1]\n",
    "goal_prediction = win_or_lose_binary[0]\n",
    "\n",
    "input = [toes[0], win_loss_rec[0], num_of_fans[0]]\n",
    "\n",
    "prediction = neural_network(input, weights)\n",
    "print(\"Prediction: \" + str(prediction))\n",
    "\n",
    "error = (prediction - goal_prediction) ** 2 # raw error\n",
    "print(\"Error: \" + str(error))\n",
    "\n",
    "delta = prediction - goal_prediction # pure_error\n",
    "print(\"Delta: \" + str(delta))"
   ]
  },
  {
   "cell_type": "code",
   "execution_count": 3,
   "metadata": {},
   "outputs": [
    {
     "name": "stdout",
     "output_type": "stream",
     "text": [
      "Prediction: 0.8600000000000001\n",
      "Error: 0.01959999999999997\n",
      "[-1.189999999999999, -0.09099999999999994, -0.16799999999999987]\n"
     ]
    }
   ],
   "source": [
    "# Gradient Descent with multiple inputs\n",
    "# STEP 3: LEARN Calculate each weight and putting it on each weight\n",
    "def ele_mul(number, vector):\n",
    "    output = [0, 0, 0]\n",
    "    assert(len(output) == len(vector))\n",
    "    for index in range(len(vector)):\n",
    "        output[index] = number * vector[index]\n",
    "    return output\n",
    "\n",
    "input = [toes[0], win_loss_rec[0], num_of_fans[0]]\n",
    "prediction = neural_network(input, weights)\n",
    "print(\"Prediction: \" + str(prediction))\n",
    "\n",
    "error = (prediction - goal_prediction) ** 2 # raw error\n",
    "print(\"Error: \" + str(error))\n",
    "\n",
    "delta = prediction - goal_prediction # pure_erro\n",
    "\n",
    "weight_deltas = ele_mul(delta, input)\n",
    "print(weight_deltas)"
   ]
  },
  {
   "cell_type": "code",
   "execution_count": 4,
   "metadata": {},
   "outputs": [
    {
     "name": "stdout",
     "output_type": "stream",
     "text": [
      "Weights: [0.1119, 0.20091, -0.09832]\n",
      "[-1.189999999999999, -0.09099999999999994, -0.16799999999999987]\n"
     ]
    }
   ],
   "source": [
    "# Gradient Descent with multiple inputs\n",
    "# STEP 4: LEARN Updating the weight\n",
    "input = [toes[0], win_loss_rec[0], num_of_fans[0]]\n",
    "prediction = neural_network(input, weights)\n",
    "error = (prediction - goal_prediction) ** 2 # raw error\n",
    "delta = prediction - goal_prediction # pure error\n",
    "\n",
    "weight_deltas = ele_mul(delta, input)\n",
    "\n",
    "alpha = 0.01\n",
    "\n",
    "for i in range(len(weights)):\n",
    "    weights[i] -= alpha * weight_deltas[i]\n",
    "print(\"Weights: \" + str(weights))\n",
    "print(weight_deltas)\n"
   ]
  },
  {
   "cell_type": "code",
   "execution_count": 5,
   "metadata": {},
   "outputs": [
    {
     "name": "stdout",
     "output_type": "stream",
     "text": [
      "Iteration: 1\n",
      "prediction: 0.9637574999999999\n",
      "error: 0.0013135188062500048\n",
      "delta: -0.036242500000000066\n",
      "weight_deltas: [0, -0.023557625000000044, -0.04349100000000008]\n",
      "  -----------------    \n",
      "Iteration: 2\n",
      "prediction: 0.9637574999999999\n",
      "error: 0.0013135188062500048\n",
      "delta: -0.036242500000000066\n",
      "weight_deltas: [0, -0.023557625000000044, -0.04349100000000008]\n",
      "  -----------------    \n",
      "Iteration: 3\n",
      "prediction: 0.9637574999999999\n",
      "error: 0.0013135188062500048\n",
      "delta: -0.036242500000000066\n",
      "weight_deltas: [0, -0.023557625000000044, -0.04349100000000008]\n",
      "  -----------------    \n",
      "Weights: [0.1119, 0.20797728750000002, -0.08527269999999998]\n",
      "[0, -0.023557625000000044, -0.04349100000000008]\n"
     ]
    }
   ],
   "source": [
    "# Gradient Descent with multiple inputs\n",
    "# Freezing one weight\n",
    "input = [toes[0], win_loss_rec[0], num_of_fans[0]]\n",
    "\n",
    "for iter in range(3):\n",
    "    prediction = neural_network(input, weights)\n",
    "    error = (prediction - goal_prediction) ** 2 # raw error\n",
    "    delta = prediction - goal_prediction # pure error\n",
    "    weight_deltas = ele_mul(delta, input)\n",
    "    weight_deltas[0] = 0\n",
    "    print(\"Iteration: \"+ str(iter+1))\n",
    "    print(\"prediction: \"+ str(prediction))\n",
    "    print(\"error: \"+ str(error))\n",
    "    print(\"delta: \"+ str(delta))\n",
    "    print(\"weight_deltas: \"+ str(weight_deltas))\n",
    "    print(\"  -----------------    \")\n",
    "\n",
    "alpha = 0.3\n",
    "\n",
    "for i in range(len(weights)):\n",
    "    weights[i] -= alpha * weight_deltas[i]\n",
    "print(\"Weights: \" + str(weights))\n",
    "print(weight_deltas)\n",
    "\n",
    "# Resetting this for next steps\n",
    "weight_deltas[0] = 0.1119\n"
   ]
  },
  {
   "cell_type": "code",
   "execution_count": 6,
   "metadata": {},
   "outputs": [],
   "source": [
    "# Gradient Descent with one input & multiple predictions \n",
    "# Step 1: An empty network with multiple outputs\n",
    "def neural_network_single_input(input, weights):\n",
    "    prediction = ele_mul(input, weights)\n",
    "    return prediction\n",
    "\n",
    "\n",
    "weights = [0.3, 0.2, 0.9]"
   ]
  },
  {
   "cell_type": "code",
   "execution_count": 7,
   "metadata": {},
   "outputs": [
    {
     "name": "stdout",
     "output_type": "stream",
     "text": [
      "[0.009025, 0.7569, 0.2352250000000001]\n",
      "[0.095, -0.87, 0.4850000000000001]\n"
     ]
    }
   ],
   "source": [
    "# Gradient Descent with one input & multiple predictions \n",
    "# Step 2: Make a prediction and calculate error + delta\n",
    "# Input\n",
    "win_lose_rec = [.65, 1.0, 1.0, 0.9]\n",
    "\n",
    "# Outputs\n",
    "hurt = [0.1, 0.0, 0.0, 0.1]\n",
    "win = [1, 1, 0, 1]\n",
    "sad = [.1, 0, .1, .2]\n",
    "\n",
    "input = win_lose_rec[0]\n",
    "goal_pred = [hurt[0], win[0], sad[0]]\n",
    "\n",
    "prediction = neural_network_single_input(input, weights)\n",
    "\n",
    "error = [0, 0, 0]\n",
    "delta = [0, 0, 0]\n",
    "\n",
    "for i in range(len(goal_pred)):\n",
    "    error[i] = (prediction[i] - goal_pred[i]) ** 2 # raw error\n",
    "    delta[i] = prediction[i] - goal_pred[i] # pure error\n",
    "\n",
    "print(error)\n",
    "print(delta)"
   ]
  },
  {
   "cell_type": "code",
   "execution_count": 8,
   "metadata": {},
   "outputs": [
    {
     "name": "stdout",
     "output_type": "stream",
     "text": [
      "[0.009025, 0.7569, 0.2352250000000001]\n",
      "[0.095, -0.87, 0.4850000000000001]\n",
      "[0.1119, -0.023557625000000044, -0.04349100000000008]\n"
     ]
    }
   ],
   "source": [
    "# Gradient Descent with one input & multiple predictions \n",
    "# Step 3: COMPARE Calculating each weight_delta and putting it on each weight\n",
    "\n",
    "def scalar_ele_mul(delta, vector):\n",
    "    output = [0, 0, 0]\n",
    "    assert(len(output) == len(vector))\n",
    "    for i in range(len(vector)):\n",
    "        output[i] = delta * vector[i]\n",
    "    return output # prediction\n",
    "\n",
    "# Input\n",
    "win_lose_rec = [.65, 1.0, 1.0, 0.9]\n",
    "\n",
    "# Outputs\n",
    "hurt = [0.1, 0.0, 0.0, 0.1]\n",
    "win = [1, 1, 0, 1]\n",
    "sad = [.1, 0, .1, .2]\n",
    "\n",
    "input = win_lose_rec[0]\n",
    "goal_pred = [hurt[0], win[0], sad[0]]\n",
    "\n",
    "prediction = neural_network_single_input(input, weights)\n",
    "\n",
    "error = [0, 0, 0]\n",
    "delta = [0, 0, 0]\n",
    "\n",
    "for i in range(len(goal_pred)):\n",
    "    error[i] = (prediction[i] - goal_pred[i]) ** 2 # raw error\n",
    "    delta[i] = prediction[i] - goal_pred[i] # pure error\n",
    "\n",
    "print(error)\n",
    "print(delta)\n",
    "\n",
    "weighte_deltas = scalar_ele_mul(input, weights)\n",
    "print(weight_deltas)\n"
   ]
  },
  {
   "cell_type": "code",
   "execution_count": 9,
   "metadata": {},
   "outputs": [
    {
     "name": "stdout",
     "output_type": "stream",
     "text": [
      "Weights: [0.28881, 0.2023557625, 0.9043491]\n",
      "Weight Deltas: [0.1119, -0.023557625000000044, -0.04349100000000008]\n"
     ]
    }
   ],
   "source": [
    "# Gradient Descent with one input & multiple predictions \n",
    "# Step 4: LEARN Updating the weights\n",
    "alpha = 0.1\n",
    "\n",
    "for i in range(len(weights)):\n",
    "    weights[i] -= alpha * weight_deltas[i]\n",
    "    \n",
    "print(\"Weights: \" + str(weights))\n",
    "print(\"Weight Deltas: \" + str(weight_deltas))\n",
    "    "
   ]
  },
  {
   "cell_type": "code",
   "execution_count": 10,
   "metadata": {},
   "outputs": [],
   "source": [
    "# Gradient Descent with multiple inputs & multiple predictions \n",
    "# Step 1: Empty Neural network with multiple inputs and outputs\n",
    "#              # toes.     #win.     # fans. \n",
    "# #hurt         0.1        0.1       -0.3\n",
    "# #win          0.1        0.2        0.0\n",
    "# #sad          0.0        1.3        0.1\n",
    "\n",
    "weights = [[0.1, 0.1, -0.3],\n",
    "          [0.1, 0.2, 0.0],\n",
    "          [0.0, 1.3, 0.1]]\n",
    "\n",
    "def vector_matrix_mul(vector, matrix):\n",
    "    assert(len(vector) == len(matrix))\n",
    "    output = [0, 0, 0]\n",
    "    for i in range(len(vector)):\n",
    "        output[i] = weighted_sum(vector, matrix[i])\n",
    "    return output\n",
    "\n",
    "def neural_network_multiple_io(input, weights):\n",
    "    prediction = vector_matrix_mul(input, weights)\n",
    "    return prediction"
   ]
  },
  {
   "cell_type": "code",
   "execution_count": 12,
   "metadata": {},
   "outputs": [
    {
     "name": "stdout",
     "output_type": "stream",
     "text": [
      "[0.555, 0.9800000000000001, 0.9650000000000001]\n",
      "[0.20702500000000007, 0.0003999999999999963, 0.7482250000000001]\n",
      "[0.45500000000000007, -0.019999999999999907, 0.8650000000000001]\n"
     ]
    }
   ],
   "source": [
    "# Gradient Descent with multiple inputs & multiple predictions \n",
    "# Step 2: Make a prediction and calculate the error + delta\n",
    "# Inputs\n",
    "toes = [8.5, 9.5, 9.9, 9.0]\n",
    "win_lose_rec = [0.65, 0.8, 0.8, 0.9]\n",
    "num_of_fans = [1.2, 1.3, 0.5, 1.0]\n",
    "\n",
    "# Outputs\n",
    "hurt = [0.1, 0.0, 0.0, 0.1]\n",
    "win = [1, 1, 0, 1]\n",
    "sad = [.1, 0, .1, .2]\n",
    "\n",
    "alpha = 0.01\n",
    "\n",
    "input = [toes[0], win_lose_rec[0], num_of_fans[0]]\n",
    "goal_pred = [hurt[0], win[0], sad[0]]\n",
    "\n",
    "prediction = neural_network_multiple_io(input, weights)\n",
    "error = [0, 0, 0]\n",
    "delta = [0, 0, 0]\n",
    "\n",
    "for i in range(len(goal_pred)):\n",
    "    error[i] = (prediction[i] - goal_pred[i]) ** 2  # raw error\n",
    "    delta[i] = prediction[i] - goal_pred[i] # pure error\n",
    "\n",
    "print(prediction)\n",
    "print(error)\n",
    "print(delta)\n"
   ]
  },
  {
   "cell_type": "code",
   "execution_count": 22,
   "metadata": {},
   "outputs": [
    {
     "name": "stdout",
     "output_type": "stream",
     "text": [
      "[[3.8675000000000006, -0.1699999999999992, 7.352500000000001], [0.29575000000000007, -0.01299999999999994, 0.5622500000000001], [0.546, -0.023999999999999886, 1.038]]\n"
     ]
    }
   ],
   "source": [
    "# Gradient Descent with multiple inputs & multiple predictions \n",
    "# Step 3: Calculating each weight_delta and putting it on each weight\n",
    "def outer_prod(vector_a, vector_b):\n",
    "    outer = zeros_matrix(len(vector_a), len(vector_b))\n",
    "    \n",
    "    for i in range(len(vector_a)):\n",
    "        for j in range(len(vector_b)):\n",
    "            outer[i][j] = vector_a[i] * vector_b[j]\n",
    "    return outer\n",
    "\n",
    "def zeros_matrix(a, b):\n",
    "    matrix = []\n",
    "    for i in range(a):\n",
    "        matrix.append([0] * b)\n",
    "    return matrix\n",
    "\n",
    "input = [toes[0], win_lose_rec[0], num_of_fans[0]]\n",
    "goal_pred = [hurt[0], win[0], sad[0]]\n",
    "\n",
    "prediction = neural_network_multiple_io(input, weights)\n",
    "error = [0, 0, 0]\n",
    "delta = [0, 0, 0]\n",
    "\n",
    "for i in range(len(goal_pred)):\n",
    "    error[i] = (prediction[i] - goal_pred[i]) ** 2  # raw error\n",
    "    delta[i] = prediction[i] - goal_pred[i] # pure error\n",
    "\n",
    "weight_deltas = outer_prod(input, delta)\n",
    "\n",
    "print(weight_deltas)"
   ]
  },
  {
   "cell_type": "code",
   "execution_count": 24,
   "metadata": {},
   "outputs": [
    {
     "name": "stdout",
     "output_type": "stream",
     "text": [
      "[[0.02264999999999999, 0.10339999999999999, -0.44705], [0.094085, 0.20026, -0.011245000000000003], [-0.010920000000000001, 1.30048, 0.07924]]\n"
     ]
    }
   ],
   "source": [
    "# Gradient Descent with multiple inputs & multiple predictions \n",
    "# Step 4: LEARN Update the weights\n",
    "for i in range(len(weights)):\n",
    "    for j in range(len(weights[0])):\n",
    "        weights[i][j] -= alpha * weight_deltas[i][j]\n",
    "        \n",
    "print(weights)"
   ]
  },
  {
   "cell_type": "code",
   "execution_count": null,
   "metadata": {},
   "outputs": [],
   "source": []
  }
 ],
 "metadata": {
  "kernelspec": {
   "display_name": "Python 3",
   "language": "python",
   "name": "python3"
  },
  "language_info": {
   "codemirror_mode": {
    "name": "ipython",
    "version": 3
   },
   "file_extension": ".py",
   "mimetype": "text/x-python",
   "name": "python",
   "nbconvert_exporter": "python",
   "pygments_lexer": "ipython3",
   "version": "3.8.3"
  }
 },
 "nbformat": 4,
 "nbformat_minor": 4
}
